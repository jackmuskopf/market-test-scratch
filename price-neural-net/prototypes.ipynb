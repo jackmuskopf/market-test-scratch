{
 "cells": [
  {
   "cell_type": "code",
   "execution_count": 1,
   "metadata": {},
   "outputs": [],
   "source": [
    "# Helper libraries\n",
    "import datetime\n",
    "import pandas as pd\n",
    "import numpy as np\n",
    "import matplotlib.pyplot as plt\n",
    "\n",
    "from matplotlib import style\n",
    "style.use('dark_background')"
   ]
  },
  {
   "cell_type": "code",
   "execution_count": 2,
   "metadata": {},
   "outputs": [],
   "source": [
    "from sklearn.decomposition import PCA"
   ]
  },
  {
   "cell_type": "code",
   "execution_count": 3,
   "metadata": {},
   "outputs": [],
   "source": [
    "# TensorFlow and tf.keras\n",
    "import tensorflow as tf\n",
    "from tensorflow import keras\n",
    "from tensorflow.python.client import device_lib\n",
    "tf_gpus = [x for x in device_lib.list_local_devices() if x.device_type == 'GPU']\n"
   ]
  },
  {
   "cell_type": "code",
   "execution_count": 6,
   "metadata": {},
   "outputs": [],
   "source": [
    "import os\n",
    "import sys"
   ]
  },
  {
   "cell_type": "code",
   "execution_count": 7,
   "metadata": {},
   "outputs": [],
   "source": [
    "import boto3\n",
    "client = boto3.Session(profile_name='personal').client(\"dynamodb\")\n",
    "from jmpy.dynamodb import DynamoDB\n",
    "dynamodb = DynamoDB(client=client)"
   ]
  },
  {
   "cell_type": "code",
   "execution_count": 8,
   "metadata": {},
   "outputs": [],
   "source": [
    "def stock_prices(symbol, interpolate=True):\n",
    "    query = dict(table='Price', filter='symbol = :sym', values={\":sym\":symbol})\n",
    "    df = pd.DataFrame(dynamodb.query(**query))\n",
    "    df.date = df.date.apply(lambda x: datetime.datetime.strptime(x, '%Y-%m-%d'))\n",
    "    df.set_index('date',inplace=True)\n",
    "    return df\n",
    "\n",
    "def interpolate_df(df):\n",
    "    for col in df:\n",
    "        df[col] = pd.to_numeric(df[col], errors='coerce')\n",
    "    df_reindexed = df.reindex(\n",
    "        pd.date_range(\n",
    "            start=df.index.min(),\n",
    "            end=df.index.max(),\n",
    "            freq='1D'\n",
    "        )\n",
    "    ) \n",
    "    df = df_reindexed.interpolate(method='linear') \n",
    "    return df\n"
   ]
  },
  {
   "cell_type": "code",
   "execution_count": 9,
   "metadata": {},
   "outputs": [],
   "source": [
    "def get_windows(series,wsize=30):\n",
    "    one_day = datetime.timedelta(days=1)\n",
    "    \n",
    "    start = series.index.min()\n",
    "    end = series.index.max()\n",
    "    \n",
    "    to_str = lambda x: x.isoformat()\n",
    "    ws,we = start, start+datetime.timedelta(days=wsize-1)\n",
    "    windows = list()\n",
    "    while we <= end:\n",
    "        windows.append(series[ws:we])\n",
    "        we += one_day\n",
    "        ws += one_day\n",
    "    return windows"
   ]
  },
  {
   "cell_type": "markdown",
   "metadata": {},
   "source": [
    "#### Confirm TensorFlow Config"
   ]
  },
  {
   "cell_type": "code",
   "execution_count": 10,
   "metadata": {},
   "outputs": [
    {
     "name": "stdout",
     "output_type": "stream",
     "text": [
      "1.12.0\n",
      "[]\n"
     ]
    }
   ],
   "source": [
    "print(tf.__version__)\n",
    "print(tf_gpus)"
   ]
  },
  {
   "cell_type": "code",
   "execution_count": 11,
   "metadata": {},
   "outputs": [
    {
     "data": {
      "text/plain": [
       "[name: \"/device:CPU:0\"\n",
       " device_type: \"CPU\"\n",
       " memory_limit: 268435456\n",
       " locality {\n",
       " }\n",
       " incarnation: 12027926636621928085]"
      ]
     },
     "execution_count": 11,
     "metadata": {},
     "output_type": "execute_result"
    }
   ],
   "source": [
    "device_lib.list_local_devices() "
   ]
  },
  {
   "cell_type": "markdown",
   "metadata": {},
   "source": [
    "#### Get some data"
   ]
  },
  {
   "cell_type": "code",
   "execution_count": 12,
   "metadata": {},
   "outputs": [],
   "source": [
    "test_sym = 'MSFT'\n",
    "test_df = stock_prices(test_sym)"
   ]
  },
  {
   "cell_type": "code",
   "execution_count": 13,
   "metadata": {},
   "outputs": [
    {
     "data": {
      "text/plain": [
       "<matplotlib.axes._subplots.AxesSubplot at 0x13a354588>"
      ]
     },
     "execution_count": 13,
     "metadata": {},
     "output_type": "execute_result"
    },
    {
     "data": {
      "image/png": "[encoded data removed]",
      "text/plain": [
       "<Figure size 432x288 with 1 Axes>"
      ]
     },
     "metadata": {
      "needs_background": "dark"
     },
     "output_type": "display_data"
    }
   ],
   "source": [
    "test_df = interpolate_df(test_df)\n",
    "test_df[['adj_close','low']].plot()"
   ]
  },
  {
   "cell_type": "code",
   "execution_count": 14,
   "metadata": {},
   "outputs": [
    {
     "data": {
      "text/html": [
       "<div>\n",
       "<style scoped>\n",
       "    .dataframe tbody tr th:only-of-type {\n",
       "        vertical-align: middle;\n",
       "    }\n",
       "\n",
       "    .dataframe tbody tr th {\n",
       "        vertical-align: top;\n",
       "    }\n",
       "\n",
       "    .dataframe thead th {\n",
       "        text-align: right;\n",
       "    }\n",
       "</style>\n",
       "<table border=\"1\" class=\"dataframe\">\n",
       "  <thead>\n",
       "    <tr style=\"text-align: right;\">\n",
       "      <th></th>\n",
       "      <th>adj_close</th>\n",
       "      <th>close</th>\n",
       "      <th>dividend</th>\n",
       "      <th>high</th>\n",
       "      <th>low</th>\n",
       "      <th>open</th>\n",
       "      <th>split</th>\n",
       "      <th>symbol</th>\n",
       "      <th>volume</th>\n",
       "    </tr>\n",
       "  </thead>\n",
       "  <tbody>\n",
       "    <tr>\n",
       "      <th>1998-01-02</th>\n",
       "      <td>10.679600</td>\n",
       "      <td>131.13</td>\n",
       "      <td>0.0</td>\n",
       "      <td>131.50</td>\n",
       "      <td>129.500000</td>\n",
       "      <td>129.63</td>\n",
       "      <td>1.0</td>\n",
       "      <td>NaN</td>\n",
       "      <td>4968500.0</td>\n",
       "    </tr>\n",
       "    <tr>\n",
       "      <th>1998-01-03</th>\n",
       "      <td>10.659267</td>\n",
       "      <td>130.88</td>\n",
       "      <td>0.0</td>\n",
       "      <td>132.21</td>\n",
       "      <td>128.956667</td>\n",
       "      <td>130.17</td>\n",
       "      <td>1.0</td>\n",
       "      <td>NaN</td>\n",
       "      <td>6661400.0</td>\n",
       "    </tr>\n",
       "    <tr>\n",
       "      <th>1998-01-04</th>\n",
       "      <td>10.638933</td>\n",
       "      <td>130.63</td>\n",
       "      <td>0.0</td>\n",
       "      <td>132.92</td>\n",
       "      <td>128.413333</td>\n",
       "      <td>130.71</td>\n",
       "      <td>1.0</td>\n",
       "      <td>NaN</td>\n",
       "      <td>8354300.0</td>\n",
       "    </tr>\n",
       "    <tr>\n",
       "      <th>1998-01-05</th>\n",
       "      <td>10.618600</td>\n",
       "      <td>130.38</td>\n",
       "      <td>0.0</td>\n",
       "      <td>133.63</td>\n",
       "      <td>127.870000</td>\n",
       "      <td>131.25</td>\n",
       "      <td>1.0</td>\n",
       "      <td>NaN</td>\n",
       "      <td>10047200.0</td>\n",
       "    </tr>\n",
       "    <tr>\n",
       "      <th>1998-01-06</th>\n",
       "      <td>10.679600</td>\n",
       "      <td>131.13</td>\n",
       "      <td>0.0</td>\n",
       "      <td>133.00</td>\n",
       "      <td>129.250000</td>\n",
       "      <td>129.75</td>\n",
       "      <td>1.0</td>\n",
       "      <td>NaN</td>\n",
       "      <td>8479300.0</td>\n",
       "    </tr>\n",
       "  </tbody>\n",
       "</table>\n",
       "</div>"
      ],
      "text/plain": [
       "            adj_close   close  dividend    high         low    open  split  \\\n",
       "1998-01-02  10.679600  131.13       0.0  131.50  129.500000  129.63    1.0   \n",
       "1998-01-03  10.659267  130.88       0.0  132.21  128.956667  130.17    1.0   \n",
       "1998-01-04  10.638933  130.63       0.0  132.92  128.413333  130.71    1.0   \n",
       "1998-01-05  10.618600  130.38       0.0  133.63  127.870000  131.25    1.0   \n",
       "1998-01-06  10.679600  131.13       0.0  133.00  129.250000  129.75    1.0   \n",
       "\n",
       "            symbol      volume  \n",
       "1998-01-02     NaN   4968500.0  \n",
       "1998-01-03     NaN   6661400.0  \n",
       "1998-01-04     NaN   8354300.0  \n",
       "1998-01-05     NaN  10047200.0  \n",
       "1998-01-06     NaN   8479300.0  "
      ]
     },
     "execution_count": 14,
     "metadata": {},
     "output_type": "execute_result"
    }
   ],
   "source": [
    "test_df.head()"
   ]
  },
  {
   "cell_type": "code",
   "execution_count": 15,
   "metadata": {},
   "outputs": [],
   "source": [
    "test_df['delta'] = test_df.adj_close.pct_change()"
   ]
  },
  {
   "cell_type": "code",
   "execution_count": 16,
   "metadata": {},
   "outputs": [
    {
     "data": {
      "text/html": [
       "<div>\n",
       "<style scoped>\n",
       "    .dataframe tbody tr th:only-of-type {\n",
       "        vertical-align: middle;\n",
       "    }\n",
       "\n",
       "    .dataframe tbody tr th {\n",
       "        vertical-align: top;\n",
       "    }\n",
       "\n",
       "    .dataframe thead th {\n",
       "        text-align: right;\n",
       "    }\n",
       "</style>\n",
       "<table border=\"1\" class=\"dataframe\">\n",
       "  <thead>\n",
       "    <tr style=\"text-align: right;\">\n",
       "      <th></th>\n",
       "      <th>adj_close</th>\n",
       "      <th>close</th>\n",
       "      <th>dividend</th>\n",
       "      <th>high</th>\n",
       "      <th>low</th>\n",
       "      <th>open</th>\n",
       "      <th>split</th>\n",
       "      <th>symbol</th>\n",
       "      <th>volume</th>\n",
       "      <th>delta</th>\n",
       "    </tr>\n",
       "  </thead>\n",
       "  <tbody>\n",
       "    <tr>\n",
       "      <th>1998-01-02</th>\n",
       "      <td>10.679600</td>\n",
       "      <td>131.13</td>\n",
       "      <td>0.0</td>\n",
       "      <td>131.50</td>\n",
       "      <td>129.500000</td>\n",
       "      <td>129.63</td>\n",
       "      <td>1.0</td>\n",
       "      <td>NaN</td>\n",
       "      <td>4968500.0</td>\n",
       "      <td>NaN</td>\n",
       "    </tr>\n",
       "    <tr>\n",
       "      <th>1998-01-03</th>\n",
       "      <td>10.659267</td>\n",
       "      <td>130.88</td>\n",
       "      <td>0.0</td>\n",
       "      <td>132.21</td>\n",
       "      <td>128.956667</td>\n",
       "      <td>130.17</td>\n",
       "      <td>1.0</td>\n",
       "      <td>NaN</td>\n",
       "      <td>6661400.0</td>\n",
       "      <td>-0.001904</td>\n",
       "    </tr>\n",
       "    <tr>\n",
       "      <th>1998-01-04</th>\n",
       "      <td>10.638933</td>\n",
       "      <td>130.63</td>\n",
       "      <td>0.0</td>\n",
       "      <td>132.92</td>\n",
       "      <td>128.413333</td>\n",
       "      <td>130.71</td>\n",
       "      <td>1.0</td>\n",
       "      <td>NaN</td>\n",
       "      <td>8354300.0</td>\n",
       "      <td>-0.001908</td>\n",
       "    </tr>\n",
       "    <tr>\n",
       "      <th>1998-01-05</th>\n",
       "      <td>10.618600</td>\n",
       "      <td>130.38</td>\n",
       "      <td>0.0</td>\n",
       "      <td>133.63</td>\n",
       "      <td>127.870000</td>\n",
       "      <td>131.25</td>\n",
       "      <td>1.0</td>\n",
       "      <td>NaN</td>\n",
       "      <td>10047200.0</td>\n",
       "      <td>-0.001911</td>\n",
       "    </tr>\n",
       "    <tr>\n",
       "      <th>1998-01-06</th>\n",
       "      <td>10.679600</td>\n",
       "      <td>131.13</td>\n",
       "      <td>0.0</td>\n",
       "      <td>133.00</td>\n",
       "      <td>129.250000</td>\n",
       "      <td>129.75</td>\n",
       "      <td>1.0</td>\n",
       "      <td>NaN</td>\n",
       "      <td>8479300.0</td>\n",
       "      <td>0.005745</td>\n",
       "    </tr>\n",
       "  </tbody>\n",
       "</table>\n",
       "</div>"
      ],
      "text/plain": [
       "            adj_close   close  dividend    high         low    open  split  \\\n",
       "1998-01-02  10.679600  131.13       0.0  131.50  129.500000  129.63    1.0   \n",
       "1998-01-03  10.659267  130.88       0.0  132.21  128.956667  130.17    1.0   \n",
       "1998-01-04  10.638933  130.63       0.0  132.92  128.413333  130.71    1.0   \n",
       "1998-01-05  10.618600  130.38       0.0  133.63  127.870000  131.25    1.0   \n",
       "1998-01-06  10.679600  131.13       0.0  133.00  129.250000  129.75    1.0   \n",
       "\n",
       "            symbol      volume     delta  \n",
       "1998-01-02     NaN   4968500.0       NaN  \n",
       "1998-01-03     NaN   6661400.0 -0.001904  \n",
       "1998-01-04     NaN   8354300.0 -0.001908  \n",
       "1998-01-05     NaN  10047200.0 -0.001911  \n",
       "1998-01-06     NaN   8479300.0  0.005745  "
      ]
     },
     "execution_count": 16,
     "metadata": {},
     "output_type": "execute_result"
    }
   ],
   "source": [
    "test_df.head()"
   ]
  },
  {
   "cell_type": "code",
   "execution_count": 17,
   "metadata": {},
   "outputs": [],
   "source": [
    "ft = test_df.adj_close.index.min().isoformat()"
   ]
  },
  {
   "cell_type": "code",
   "execution_count": 18,
   "metadata": {},
   "outputs": [
    {
     "name": "stdout",
     "output_type": "stream",
     "text": [
      "10.6796\n"
     ]
    }
   ],
   "source": [
    "for k in test_df.adj_close[ft:]:\n",
    "    print(k)\n",
    "    break"
   ]
  },
  {
   "cell_type": "code",
   "execution_count": 19,
   "metadata": {},
   "outputs": [],
   "source": [
    "t = get_windows(test_df.adj_close)"
   ]
  },
  {
   "cell_type": "code",
   "execution_count": 21,
   "metadata": {},
   "outputs": [],
   "source": [
    "mat = np.array(t)"
   ]
  },
  {
   "cell_type": "code",
   "execution_count": 22,
   "metadata": {},
   "outputs": [
    {
     "data": {
      "text/plain": [
       "(7735, 30)"
      ]
     },
     "execution_count": 22,
     "metadata": {},
     "output_type": "execute_result"
    }
   ],
   "source": [
    "mat.shape"
   ]
  },
  {
   "cell_type": "code",
   "execution_count": null,
   "metadata": {},
   "outputs": [],
   "source": []
  }
 ],
 "metadata": {
  "kernelspec": {
   "display_name": "tf-cpu",
   "language": "python",
   "name": "tf-cpu"
  },
  "language_info": {
   "codemirror_mode": {
    "name": "ipython",
    "version": 3
   },
   "file_extension": ".py",
   "mimetype": "text/x-python",
   "name": "python",
   "nbconvert_exporter": "python",
   "pygments_lexer": "ipython3",
   "version": "3.6.8"
  }
 },
 "nbformat": 4,
 "nbformat_minor": 2
}
