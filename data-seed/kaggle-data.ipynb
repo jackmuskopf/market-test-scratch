{
 "cells": [
  {
   "cell_type": "code",
   "execution_count": 28,
   "metadata": {},
   "outputs": [],
   "source": [
    "import boto3\n",
    "import os\n",
    "import shutil"
   ]
  },
  {
   "cell_type": "code",
   "execution_count": 29,
   "metadata": {},
   "outputs": [],
   "source": [
    "import zipfile"
   ]
  },
  {
   "cell_type": "code",
   "execution_count": 30,
   "metadata": {},
   "outputs": [],
   "source": [
    "boto3.setup_default_session(profile_name='personal')"
   ]
  },
  {
   "cell_type": "code",
   "execution_count": 32,
   "metadata": {},
   "outputs": [],
   "source": [
    "def clone_data():\n",
    "    tmpdir = 'data_tmp'\n",
    "    os.makedirs(tmpdir)\n",
    "    s3 = boto3.client('s3')\n",
    "    zipname = os.path.join(tmpdir, 'one.zip')\n",
    "    with open(zipname, 'wb') as f:\n",
    "        s3.download_fileobj('jm-random-stuff', 'data-sources/kaggle-historic-mktdata/price-volume-data-for-all-us-stocks-etfs.zip', f)\n",
    "    extract_dir = os.path.join(tmpdir, 'unzip1')\n",
    "    os.makedirs(extract_dir)\n",
    "    zip_ref = zipfile.ZipFile(zipname, 'r')\n",
    "    zip_ref.extractall(extract_dir)\n",
    "    zip_ref.close()\n",
    "    extract_dir2 = os.path.join(extract_dir, 'unzip2')\n",
    "    zipname2 = os.path.join(extract_dir,'Data.zip')\n",
    "    os.makedirs(extract_dir2)\n",
    "    zip_ref = zipfile.ZipFile(zipname2, 'r')\n",
    "    zip_ref.extractall(extract_dir2)\n",
    "    zip_ref.close()\n",
    "    shutil.move(extract_dir2, 'data')\n",
    "    shutil.rmtree(tmpdir)\n",
    "    \n",
    "    "
   ]
  },
  {
   "cell_type": "code",
   "execution_count": 33,
   "metadata": {},
   "outputs": [],
   "source": [
    "clone_data()"
   ]
  },
  {
   "cell_type": "code",
   "execution_count": 34,
   "metadata": {},
   "outputs": [],
   "source": [
    "shutil.rmtree('data')"
   ]
  },
  {
   "cell_type": "code",
   "execution_count": null,
   "metadata": {},
   "outputs": [],
   "source": []
  },
  {
   "cell_type": "code",
   "execution_count": 23,
   "metadata": {},
   "outputs": [],
   "source": []
  },
  {
   "cell_type": "code",
   "execution_count": 26,
   "metadata": {},
   "outputs": [
    {
     "data": {
      "text/plain": [
       "'data'"
      ]
     },
     "execution_count": 26,
     "metadata": {},
     "output_type": "execute_result"
    }
   ],
   "source": []
  },
  {
   "cell_type": "code",
   "execution_count": 27,
   "metadata": {},
   "outputs": [],
   "source": []
  },
  {
   "cell_type": "code",
   "execution_count": null,
   "metadata": {},
   "outputs": [],
   "source": []
  }
 ],
 "metadata": {
  "kernelspec": {
   "display_name": "base",
   "language": "python",
   "name": "base"
  },
  "language_info": {
   "codemirror_mode": {
    "name": "ipython",
    "version": 3
   },
   "file_extension": ".py",
   "mimetype": "text/x-python",
   "name": "python",
   "nbconvert_exporter": "python",
   "pygments_lexer": "ipython3",
   "version": "3.7.1"
  }
 },
 "nbformat": 4,
 "nbformat_minor": 2
}
