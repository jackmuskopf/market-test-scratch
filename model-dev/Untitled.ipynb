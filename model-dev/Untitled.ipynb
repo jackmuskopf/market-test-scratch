{
 "cells": [
  {
   "cell_type": "code",
   "execution_count": 1,
   "metadata": {},
   "outputs": [],
   "source": [
    "import os\n",
    "import sys"
   ]
  },
  {
   "cell_type": "code",
   "execution_count": 2,
   "metadata": {},
   "outputs": [],
   "source": [
    "sys.path.append('..')"
   ]
  },
  {
   "cell_type": "code",
   "execution_count": 3,
   "metadata": {},
   "outputs": [],
   "source": [
    "from helpers import *"
   ]
  },
  {
   "cell_type": "code",
   "execution_count": 5,
   "metadata": {},
   "outputs": [],
   "source": [
    "msdf = msframe('AAPL','MSFT')"
   ]
  },
  {
   "cell_type": "code",
   "execution_count": 6,
   "metadata": {},
   "outputs": [
    {
     "data": {
      "text/html": [
       "<div>\n",
       "<style scoped>\n",
       "    .dataframe tbody tr th:only-of-type {\n",
       "        vertical-align: middle;\n",
       "    }\n",
       "\n",
       "    .dataframe tbody tr th {\n",
       "        vertical-align: top;\n",
       "    }\n",
       "\n",
       "    .dataframe thead th {\n",
       "        text-align: right;\n",
       "    }\n",
       "</style>\n",
       "<table border=\"1\" class=\"dataframe\">\n",
       "  <thead>\n",
       "    <tr style=\"text-align: right;\">\n",
       "      <th></th>\n",
       "      <th>AAPL_adj_close</th>\n",
       "      <th>AAPL_close</th>\n",
       "      <th>AAPL_dividend</th>\n",
       "      <th>AAPL_high</th>\n",
       "      <th>AAPL_low</th>\n",
       "      <th>AAPL_open</th>\n",
       "      <th>AAPL_split</th>\n",
       "      <th>AAPL_symbol</th>\n",
       "      <th>AAPL_volume</th>\n",
       "      <th>MSFT_adj_close</th>\n",
       "      <th>MSFT_close</th>\n",
       "      <th>MSFT_dividend</th>\n",
       "      <th>MSFT_high</th>\n",
       "      <th>MSFT_low</th>\n",
       "      <th>MSFT_open</th>\n",
       "      <th>MSFT_split</th>\n",
       "      <th>MSFT_symbol</th>\n",
       "      <th>MSFT_volume</th>\n",
       "    </tr>\n",
       "  </thead>\n",
       "  <tbody>\n",
       "    <tr>\n",
       "      <th>1998-01-02</th>\n",
       "      <td>0.510300</td>\n",
       "      <td>16.250000</td>\n",
       "      <td>0.0</td>\n",
       "      <td>16.250000</td>\n",
       "      <td>13.500000</td>\n",
       "      <td>13.630000</td>\n",
       "      <td>1.0</td>\n",
       "      <td>NaN</td>\n",
       "      <td>6.411700e+06</td>\n",
       "      <td>10.679600</td>\n",
       "      <td>131.13</td>\n",
       "      <td>0.0</td>\n",
       "      <td>131.50</td>\n",
       "      <td>129.500000</td>\n",
       "      <td>129.63</td>\n",
       "      <td>1.0</td>\n",
       "      <td>NaN</td>\n",
       "      <td>4968500.0</td>\n",
       "    </tr>\n",
       "    <tr>\n",
       "      <th>1998-01-03</th>\n",
       "      <td>0.506433</td>\n",
       "      <td>16.126667</td>\n",
       "      <td>0.0</td>\n",
       "      <td>16.353333</td>\n",
       "      <td>14.063333</td>\n",
       "      <td>14.586667</td>\n",
       "      <td>1.0</td>\n",
       "      <td>NaN</td>\n",
       "      <td>6.214567e+06</td>\n",
       "      <td>10.659267</td>\n",
       "      <td>130.88</td>\n",
       "      <td>0.0</td>\n",
       "      <td>132.21</td>\n",
       "      <td>128.956667</td>\n",
       "      <td>130.17</td>\n",
       "      <td>1.0</td>\n",
       "      <td>NaN</td>\n",
       "      <td>6661400.0</td>\n",
       "    </tr>\n",
       "    <tr>\n",
       "      <th>1998-01-04</th>\n",
       "      <td>0.502567</td>\n",
       "      <td>16.003333</td>\n",
       "      <td>0.0</td>\n",
       "      <td>16.456667</td>\n",
       "      <td>14.626667</td>\n",
       "      <td>15.543333</td>\n",
       "      <td>1.0</td>\n",
       "      <td>NaN</td>\n",
       "      <td>6.017433e+06</td>\n",
       "      <td>10.638933</td>\n",
       "      <td>130.63</td>\n",
       "      <td>0.0</td>\n",
       "      <td>132.92</td>\n",
       "      <td>128.413333</td>\n",
       "      <td>130.71</td>\n",
       "      <td>1.0</td>\n",
       "      <td>NaN</td>\n",
       "      <td>8354300.0</td>\n",
       "    </tr>\n",
       "    <tr>\n",
       "      <th>1998-01-05</th>\n",
       "      <td>0.498700</td>\n",
       "      <td>15.880000</td>\n",
       "      <td>0.0</td>\n",
       "      <td>16.560000</td>\n",
       "      <td>15.190000</td>\n",
       "      <td>16.500000</td>\n",
       "      <td>1.0</td>\n",
       "      <td>NaN</td>\n",
       "      <td>5.820300e+06</td>\n",
       "      <td>10.618600</td>\n",
       "      <td>130.38</td>\n",
       "      <td>0.0</td>\n",
       "      <td>133.63</td>\n",
       "      <td>127.870000</td>\n",
       "      <td>131.25</td>\n",
       "      <td>1.0</td>\n",
       "      <td>NaN</td>\n",
       "      <td>10047200.0</td>\n",
       "    </tr>\n",
       "    <tr>\n",
       "      <th>1998-01-06</th>\n",
       "      <td>0.594800</td>\n",
       "      <td>18.940000</td>\n",
       "      <td>0.0</td>\n",
       "      <td>20.000000</td>\n",
       "      <td>14.750000</td>\n",
       "      <td>15.940000</td>\n",
       "      <td>1.0</td>\n",
       "      <td>NaN</td>\n",
       "      <td>1.618280e+07</td>\n",
       "      <td>10.679600</td>\n",
       "      <td>131.13</td>\n",
       "      <td>0.0</td>\n",
       "      <td>133.00</td>\n",
       "      <td>129.250000</td>\n",
       "      <td>129.75</td>\n",
       "      <td>1.0</td>\n",
       "      <td>NaN</td>\n",
       "      <td>8479300.0</td>\n",
       "    </tr>\n",
       "  </tbody>\n",
       "</table>\n",
       "</div>"
      ],
      "text/plain": [
       "            AAPL_adj_close  AAPL_close  AAPL_dividend  AAPL_high   AAPL_low  \\\n",
       "1998-01-02        0.510300   16.250000            0.0  16.250000  13.500000   \n",
       "1998-01-03        0.506433   16.126667            0.0  16.353333  14.063333   \n",
       "1998-01-04        0.502567   16.003333            0.0  16.456667  14.626667   \n",
       "1998-01-05        0.498700   15.880000            0.0  16.560000  15.190000   \n",
       "1998-01-06        0.594800   18.940000            0.0  20.000000  14.750000   \n",
       "\n",
       "            AAPL_open  AAPL_split  AAPL_symbol   AAPL_volume  MSFT_adj_close  \\\n",
       "1998-01-02  13.630000         1.0          NaN  6.411700e+06       10.679600   \n",
       "1998-01-03  14.586667         1.0          NaN  6.214567e+06       10.659267   \n",
       "1998-01-04  15.543333         1.0          NaN  6.017433e+06       10.638933   \n",
       "1998-01-05  16.500000         1.0          NaN  5.820300e+06       10.618600   \n",
       "1998-01-06  15.940000         1.0          NaN  1.618280e+07       10.679600   \n",
       "\n",
       "            MSFT_close  MSFT_dividend  MSFT_high    MSFT_low  MSFT_open  \\\n",
       "1998-01-02      131.13            0.0     131.50  129.500000     129.63   \n",
       "1998-01-03      130.88            0.0     132.21  128.956667     130.17   \n",
       "1998-01-04      130.63            0.0     132.92  128.413333     130.71   \n",
       "1998-01-05      130.38            0.0     133.63  127.870000     131.25   \n",
       "1998-01-06      131.13            0.0     133.00  129.250000     129.75   \n",
       "\n",
       "            MSFT_split  MSFT_symbol  MSFT_volume  \n",
       "1998-01-02         1.0          NaN    4968500.0  \n",
       "1998-01-03         1.0          NaN    6661400.0  \n",
       "1998-01-04         1.0          NaN    8354300.0  \n",
       "1998-01-05         1.0          NaN   10047200.0  \n",
       "1998-01-06         1.0          NaN    8479300.0  "
      ]
     },
     "execution_count": 6,
     "metadata": {},
     "output_type": "execute_result"
    }
   ],
   "source": [
    "msdf.head()"
   ]
  },
  {
   "cell_type": "code",
   "execution_count": 4,
   "metadata": {},
   "outputs": [],
   "source": [
    "aapl = interpolate_df(stock_prices('AAPL'))\n",
    "msft = interpolate_df(stock_prices('MSFT'))"
   ]
  },
  {
   "cell_type": "code",
   "execution_count": 6,
   "metadata": {},
   "outputs": [
    {
     "data": {
      "text/plain": [
       "[<matplotlib.lines.Line2D at 0x142d9e9da90>]"
      ]
     },
     "execution_count": 6,
     "metadata": {},
     "output_type": "execute_result"
    },
    {
     "data": {
      "image/png": "[encoded data removed]",
      "text/plain": [
       "<Figure size 432x288 with 1 Axes>"
      ]
     },
     "metadata": {
      "needs_background": "dark"
     },
     "output_type": "display_data"
    }
   ],
   "source": [
    "plt.plot(aapl.adj_close,msft.adj_close)"
   ]
  },
  {
   "cell_type": "code",
   "execution_count": 10,
   "metadata": {},
   "outputs": [],
   "source": [
    "a,b = msft.adj_close, aapl.adj_close"
   ]
  },
  {
   "cell_type": "code",
   "execution_count": 12,
   "metadata": {},
   "outputs": [],
   "source": [
    "res = np.correlate(a,b)"
   ]
  },
  {
   "cell_type": "code",
   "execution_count": 13,
   "metadata": {},
   "outputs": [
    {
     "data": {
      "text/plain": [
       "0.9262778803944891"
      ]
     },
     "execution_count": 13,
     "metadata": {},
     "output_type": "execute_result"
    }
   ],
   "source": [
    "res[0]/np.sqrt((np.correlate(a,a)[0]*np.correlate(b,b)[0]))"
   ]
  },
  {
   "cell_type": "code",
   "execution_count": 14,
   "metadata": {},
   "outputs": [],
   "source": [
    "c =  interpolate_df(stock_prices('ADBE')).adj_close"
   ]
  },
  {
   "cell_type": "code",
   "execution_count": 21,
   "metadata": {},
   "outputs": [
    {
     "data": {
      "text/plain": [
       "(array([19779782.98714882]),\n",
       " array([22719852.41421488, 22703058.26579831, 22686603.19736136,\n",
       "        22670059.04695931, 22653432.33247377, 22636728.09425737,\n",
       "        22620112.64848145, 22603555.30000345, 22587093.49267977,\n",
       "        22570591.00522935, 22554422.31971646, 22538380.67872912,\n",
       "        22522691.07971925, 22507221.86355354]),\n",
       " array([41169767.60921427, 41139004.49973381, 41108954.98356981,\n",
       "        41078803.39738964, 41048325.78594983, 41017403.54055093,\n",
       "        40986538.49523914, 40955596.85115357, 40924694.75856011,\n",
       "        40893913.21522919, 40863493.0432696 , 40832958.52818989,\n",
       "        40802866.16110598, 40773097.26699047]))"
      ]
     },
     "execution_count": 21,
     "metadata": {},
     "output_type": "execute_result"
    }
   ],
   "source": [
    "np.correlate(a,b),np.correlate(a,c), np.correlate(b,c)"
   ]
  },
  {
   "cell_type": "code",
   "execution_count": 17,
   "metadata": {},
   "outputs": [],
   "source": [
    "n_cc = lambda x,y: np.correlate(x,y).item()/np.sqrt((np.correlate(x,y).item()*np.correlate(x,y).item()))"
   ]
  },
  {
   "cell_type": "code",
   "execution_count": 18,
   "metadata": {},
   "outputs": [
    {
     "ename": "ValueError",
     "evalue": "can only convert an array of size 1 to a Python scalar",
     "output_type": "error",
     "traceback": [
      "\u001b[1;31m---------------------------------------------------------------------------\u001b[0m",
      "\u001b[1;31mValueError\u001b[0m                                Traceback (most recent call last)",
      "\u001b[1;32m<ipython-input-18-653145a64844>\u001b[0m in \u001b[0;36m<module>\u001b[1;34m()\u001b[0m\n\u001b[1;32m----> 1\u001b[1;33m \u001b[0mn_cc\u001b[0m\u001b[1;33m(\u001b[0m\u001b[0ma\u001b[0m\u001b[1;33m,\u001b[0m\u001b[0mb\u001b[0m\u001b[1;33m)\u001b[0m\u001b[1;33m,\u001b[0m \u001b[0mn_cc\u001b[0m\u001b[1;33m(\u001b[0m\u001b[0ma\u001b[0m\u001b[1;33m,\u001b[0m\u001b[0mb\u001b[0m\u001b[1;33m)\u001b[0m\u001b[1;33m,\u001b[0m \u001b[0mn_cc\u001b[0m\u001b[1;33m(\u001b[0m\u001b[0mb\u001b[0m\u001b[1;33m,\u001b[0m\u001b[0mc\u001b[0m\u001b[1;33m)\u001b[0m\u001b[1;33m\u001b[0m\u001b[0m\n\u001b[0m",
      "\u001b[1;32m<ipython-input-17-61ca0f71c011>\u001b[0m in \u001b[0;36m<lambda>\u001b[1;34m(x, y)\u001b[0m\n\u001b[1;32m----> 1\u001b[1;33m \u001b[0mn_cc\u001b[0m \u001b[1;33m=\u001b[0m \u001b[1;32mlambda\u001b[0m \u001b[0mx\u001b[0m\u001b[1;33m,\u001b[0m\u001b[0my\u001b[0m\u001b[1;33m:\u001b[0m \u001b[0mnp\u001b[0m\u001b[1;33m.\u001b[0m\u001b[0mcorrelate\u001b[0m\u001b[1;33m(\u001b[0m\u001b[0mx\u001b[0m\u001b[1;33m,\u001b[0m\u001b[0my\u001b[0m\u001b[1;33m)\u001b[0m\u001b[1;33m.\u001b[0m\u001b[0mitem\u001b[0m\u001b[1;33m(\u001b[0m\u001b[1;33m)\u001b[0m\u001b[1;33m/\u001b[0m\u001b[0mnp\u001b[0m\u001b[1;33m.\u001b[0m\u001b[0msqrt\u001b[0m\u001b[1;33m(\u001b[0m\u001b[1;33m(\u001b[0m\u001b[0mnp\u001b[0m\u001b[1;33m.\u001b[0m\u001b[0mcorrelate\u001b[0m\u001b[1;33m(\u001b[0m\u001b[0mx\u001b[0m\u001b[1;33m,\u001b[0m\u001b[0my\u001b[0m\u001b[1;33m)\u001b[0m\u001b[1;33m.\u001b[0m\u001b[0mitem\u001b[0m\u001b[1;33m(\u001b[0m\u001b[1;33m)\u001b[0m\u001b[1;33m*\u001b[0m\u001b[0mnp\u001b[0m\u001b[1;33m.\u001b[0m\u001b[0mcorrelate\u001b[0m\u001b[1;33m(\u001b[0m\u001b[0mx\u001b[0m\u001b[1;33m,\u001b[0m\u001b[0my\u001b[0m\u001b[1;33m)\u001b[0m\u001b[1;33m.\u001b[0m\u001b[0mitem\u001b[0m\u001b[1;33m(\u001b[0m\u001b[1;33m)\u001b[0m\u001b[1;33m)\u001b[0m\u001b[1;33m)\u001b[0m\u001b[1;33m\u001b[0m\u001b[0m\n\u001b[0m",
      "\u001b[1;31mValueError\u001b[0m: can only convert an array of size 1 to a Python scalar"
     ]
    }
   ],
   "source": [
    "n_cc(a,b), n_cc(a,b), n_cc(b,c)"
   ]
  },
  {
   "cell_type": "code",
   "execution_count": null,
   "metadata": {},
   "outputs": [],
   "source": []
  }
 ],
 "metadata": {
  "kernelspec": {
   "display_name": "Python 3",
   "language": "python",
   "name": "python3"
  },
  "language_info": {
   "codemirror_mode": {
    "name": "ipython",
    "version": 3
   },
   "file_extension": ".py",
   "mimetype": "text/x-python",
   "name": "python",
   "nbconvert_exporter": "python",
   "pygments_lexer": "ipython3",
   "version": "3.7.0"
  }
 },
 "nbformat": 4,
 "nbformat_minor": 2
}
